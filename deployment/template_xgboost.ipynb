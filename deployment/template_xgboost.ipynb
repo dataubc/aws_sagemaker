{
 "cells": [
  {
   "cell_type": "code",
   "execution_count": 1,
   "id": "1739e550-2745-4aa2-9157-44d3b5f740f5",
   "metadata": {
    "tags": []
   },
   "outputs": [],
   "source": [
    "import numpy as np\n",
    "import pandas as pd\n",
    "import xgboost\n",
    "import joblib\n",
    "import tarfile\n",
    "from time import gmtime, strftime\n",
    "import time\n",
    "import sys\n",
    "import os\n",
    "import boto3\n",
    "from sagemaker import Session\n",
    "from sagemaker.amazon.amazon_estimator import get_image_uri\n",
    "from sagemaker import get_execution_role\n",
    "from sagemaker.amazon.amazon_estimator import get_image_uri\n",
    "from sagemaker import get_execution_role"
   ]
  },
  {
   "cell_type": "markdown",
   "id": "b29ca3d2-c5c4-4f73-8671-3631459e87a6",
   "metadata": {},
   "source": [
    "### Loading the pre-trained model"
   ]
  },
  {
   "cell_type": "code",
   "execution_count": 3,
   "id": "63402a6e-bcea-4d51-89de-88dd1c61f1a6",
   "metadata": {
    "tags": []
   },
   "outputs": [],
   "source": [
    "model_pkl=joblib.load('../models/flow_mosal.pkl')\n",
    "booster=model_pkl.get_booster()\n",
    "booster.save_model('xgboost-model')\n",
    "# add xgboost-model to tar.gz file, the model file also need to tar-zipped.\n",
    "fp = tarfile.open(\"model.tar.gz\",\"w:gz\")\n",
    "fp.add('xgboost-model')\n",
    "fp.close()"
   ]
  },
  {
   "cell_type": "markdown",
   "id": "4466b2dd-984b-416f-b828-17306e236c01",
   "metadata": {},
   "source": [
    "### Upload the model to S3"
   ]
  },
  {
   "cell_type": "code",
   "execution_count": 5,
   "id": "41d132c1-11a5-4020-ac5f-80c405cb55ab",
   "metadata": {
    "tags": []
   },
   "outputs": [],
   "source": [
    "bucket = Session().default_bucket()\n",
    "prefix = \"sagemaker/iris\"\n",
    "model_file_name = 'xgboost-model'"
   ]
  },
  {
   "cell_type": "code",
   "execution_count": 6,
   "id": "d9ec9f21-10ef-4551-86e5-c83e488cc53a",
   "metadata": {
    "tags": []
   },
   "outputs": [],
   "source": [
    "fObj = open(\"model.tar.gz\", \"rb\")\n",
    "key = os.path.join(prefix, model_file_name, \"model.tar.gz\")\n",
    "boto3.Session().resource(\"s3\").Bucket(bucket).Object(key).upload_fileobj(fObj)"
   ]
  },
  {
   "cell_type": "markdown",
   "id": "714adfdf-5fa2-4c37-ae3e-d40ae0574edc",
   "metadata": {},
   "source": [
    "### Set up hosting for the model\n",
    "This involves creating a SageMaker model from the model file previously uploaded to S3."
   ]
  },
  {
   "cell_type": "code",
   "execution_count": 7,
   "id": "c365df2e-a352-41c9-b027-dcdf078787d6",
   "metadata": {
    "tags": []
   },
   "outputs": [
    {
     "name": "stderr",
     "output_type": "stream",
     "text": [
      "The method get_image_uri has been renamed in sagemaker>=2.\n",
      "See: https://sagemaker.readthedocs.io/en/stable/v2.html for details.\n"
     ]
    }
   ],
   "source": [
    "container = get_image_uri(boto3.Session().region_name, \"xgboost\", \"1.5-1\")"
   ]
  },
  {
   "cell_type": "code",
   "execution_count": 9,
   "id": "5dda3ec9-3613-42a5-9ea0-d41771715771",
   "metadata": {
    "tags": []
   },
   "outputs": [],
   "source": [
    "region = Session().boto_region_name\n",
    "#xgboost_container = sagemaker.image_uris.retrieve(\"xgboost\", region, \"1.5-1\")\n",
    "\n",
    "role = get_execution_role()"
   ]
  },
  {
   "cell_type": "code",
   "execution_count": 10,
   "id": "d9ef873c-1e5d-48ca-9f17-246703fd4def",
   "metadata": {
    "tags": []
   },
   "outputs": [
    {
     "name": "stdout",
     "output_type": "stream",
     "text": [
      "https://s3-ca-central-1.amazonaws.com/sagemaker-ca-central-1-013272036621/sagemaker/iris/xgboost-model/model.tar.gz\n",
      "arn:aws:sagemaker:ca-central-1:013272036621:model/xgboost-model2022-12-13-21-47-57\n",
      "CPU times: user 64.1 ms, sys: 26.1 ms, total: 90.2 ms\n",
      "Wall time: 502 ms\n"
     ]
    }
   ],
   "source": [
    "%%time\n",
    "model_name = model_file_name + strftime(\"%Y-%m-%d-%H-%M-%S\", gmtime())\n",
    "model_url = \"https://s3-{}.amazonaws.com/{}/{}\".format(region, bucket, key)\n",
    "sm_client = boto3.client(\"sagemaker\")\n",
    "\n",
    "print(model_url)\n",
    "\n",
    "primary_container = {\n",
    "    \"Image\": container,\n",
    "    \"ModelDataUrl\": model_url,\n",
    "}\n",
    "\n",
    "create_model_response2 = sm_client.create_model(\n",
    "    ModelName=model_name, ExecutionRoleArn=role, PrimaryContainer=primary_container\n",
    ")\n",
    "\n",
    "print(create_model_response2[\"ModelArn\"])"
   ]
  },
  {
   "cell_type": "markdown",
   "id": "0c11789d-ca13-479b-923d-5f1e644d2e98",
   "metadata": {},
   "source": [
    "### Create endpoint configuration\n",
    "\n",
    "SageMaker supports configuring REST endpoints in hosting with multiple models, e.g. for A/B testing purposes. In order to support this, you can create an endpoint configuration, that describes the distribution of traffic across the models, whether split, shadowed, or sampled in some wa"
   ]
  },
  {
   "cell_type": "code",
   "execution_count": 11,
   "id": "269d3a0e-1624-4937-bb31-cd51f5b7152a",
   "metadata": {
    "tags": []
   },
   "outputs": [
    {
     "name": "stdout",
     "output_type": "stream",
     "text": [
      "DEMO-XGBoostEndpointConfig-2022-12-13-21-48-01\n",
      "Endpoint Config Arn: arn:aws:sagemaker:ca-central-1:013272036621:endpoint-config/demo-xgboostendpointconfig-2022-12-13-21-48-01\n"
     ]
    }
   ],
   "source": [
    "endpoint_config_name = \"DEMO-XGBoostEndpointConfig-\" + strftime(\"%Y-%m-%d-%H-%M-%S\", gmtime())\n",
    "print(endpoint_config_name)\n",
    "create_endpoint_config_response = sm_client.create_endpoint_config(\n",
    "    EndpointConfigName=endpoint_config_name,\n",
    "    ProductionVariants=[\n",
    "        {\n",
    "            \"InstanceType\": \"ml.m4.xlarge\",\n",
    "            \"InitialInstanceCount\": 1,\n",
    "            \"InitialVariantWeight\": 1,\n",
    "            \"ModelName\": model_name,\n",
    "            \"VariantName\": \"AllTraffic\",\n",
    "        }\n",
    "    ],\n",
    ")\n",
    "\n",
    "print(\"Endpoint Config Arn: \" + create_endpoint_config_response[\"EndpointConfigArn\"])"
   ]
  },
  {
   "cell_type": "markdown",
   "id": "3c75cb5e-d98d-481c-985a-4cceb05abc60",
   "metadata": {},
   "source": [
    "### Create endpoint\n",
    "Needs:\n",
    "- The name and configuration defined above.\n",
    "- The end result is an endpoint that can be validated and incorporated into production applications. \n",
    "\n",
    "*This takes 9-11 minutes to complete.*"
   ]
  },
  {
   "cell_type": "code",
   "execution_count": 12,
   "id": "58ab93ae-ee69-4287-91b9-baa49c9215ec",
   "metadata": {
    "tags": []
   },
   "outputs": [
    {
     "name": "stdout",
     "output_type": "stream",
     "text": [
      "DEMO-XGBoostEndpoint-2022-12-13-21-48-06\n",
      "arn:aws:sagemaker:ca-central-1:013272036621:endpoint/demo-xgboostendpoint-2022-12-13-21-48-06\n",
      "Status: Creating\n",
      "Status: Creating\n",
      "Status: Creating\n",
      "Status: InService\n",
      "Arn: arn:aws:sagemaker:ca-central-1:013272036621:endpoint/demo-xgboostendpoint-2022-12-13-21-48-06\n",
      "Status: InService\n",
      "CPU times: user 51.2 ms, sys: 7.44 ms, total: 58.6 ms\n",
      "Wall time: 3min\n"
     ]
    }
   ],
   "source": [
    "%%time\n",
    "\n",
    "endpoint_name = \"DEMO-XGBoostEndpoint-\" + strftime(\"%Y-%m-%d-%H-%M-%S\", gmtime())\n",
    "print(endpoint_name)\n",
    "create_endpoint_response = sm_client.create_endpoint(\n",
    "    EndpointName=endpoint_name, EndpointConfigName=endpoint_config_name\n",
    ")\n",
    "print(create_endpoint_response[\"EndpointArn\"])\n",
    "\n",
    "resp = sm_client.describe_endpoint(EndpointName=endpoint_name)\n",
    "status = resp[\"EndpointStatus\"]\n",
    "print(\"Status: \" + status)\n",
    "\n",
    "while status == \"Creating\":\n",
    "    time.sleep(60)\n",
    "    resp = sm_client.describe_endpoint(EndpointName=endpoint_name)\n",
    "    status = resp[\"EndpointStatus\"]\n",
    "    print(\"Status: \" + status)\n",
    "\n",
    "print(\"Arn: \" + resp[\"EndpointArn\"])\n",
    "print(\"Status: \" + status)"
   ]
  },
  {
   "cell_type": "code",
   "execution_count": 12,
   "id": "338048a1-aae2-4f15-b0be-4fa92c97bfe5",
   "metadata": {
    "tags": []
   },
   "outputs": [],
   "source": [
    "runtime_client = boto3.client(\"runtime.sagemaker\")"
   ]
  },
  {
   "cell_type": "markdown",
   "id": "95687ea4-1e37-492a-8da7-54b6653301ec",
   "metadata": {},
   "source": [
    "### Validate the model for use: Batch processing\n",
    "- Get the endpoint from the client library using the result from previous operations\n",
    "- Prepare the data\n",
    "- Generate classifications from the model using that endpoint"
   ]
  },
  {
   "cell_type": "code",
   "execution_count": 5,
   "id": "fa108874-4cef-4ea7-8e15-66d42ceb2a5a",
   "metadata": {
    "tags": []
   },
   "outputs": [],
   "source": [
    "point_X = np.array([[5.3,3.7,1.6],\n",
    "                   [4.8,3.0,0.5],\n",
    "                   [5.9,3,5.1]\n",
    "                   ])   "
   ]
  },
  {
   "cell_type": "code",
   "execution_count": 6,
   "id": "aa94daea-712e-4966-b242-6d3c335d1491",
   "metadata": {
    "tags": []
   },
   "outputs": [],
   "source": [
    "np.savetxt(\"../data/test_point.csv\", point_X, delimiter=\",\")"
   ]
  },
  {
   "cell_type": "code",
   "execution_count": 31,
   "id": "2a0fc28c-6eb7-4ce6-9ac4-dd0f605dbfd1",
   "metadata": {
    "tags": []
   },
   "outputs": [],
   "source": [
    "# batch processing\n",
    "def do_predict(data, endpoint_name, content_type):\n",
    "    payload = \"\\n\".join(data)\n",
    "    response = runtime_client.invoke_endpoint(\n",
    "        EndpointName=endpoint_name, ContentType=content_type, Body=payload\n",
    "    )\n",
    "    result = response[\"Body\"].read()\n",
    "    result = result.decode(\"utf-8\")\n",
    "    result = result.strip(\"\\n0\").split(\"\\n\")\n",
    "    preds = list(map(float,result))\n",
    "    return  preds\n",
    "\n",
    "\n",
    "def batch_predict(data, batch_size, endpoint_name, content_type):\n",
    "    items = len(data)\n",
    "    arrs = []\n",
    "\n",
    "    for offset in range(0, items, batch_size):\n",
    "        if offset + batch_size < items:\n",
    "            results = do_predict(data[offset : (offset + batch_size)], endpoint_name, content_type)\n",
    "            arrs.extend(results)\n",
    "        else:\n",
    "            arrs.extend(do_predict(data[offset:items], endpoint_name, content_type))\n",
    "        sys.stdout.write(\".\")\n",
    "    return arrs"
   ]
  },
  {
   "cell_type": "code",
   "execution_count": 33,
   "id": "77bd75b2-8cd3-47d7-ae96-233a34b44ab4",
   "metadata": {
    "tags": []
   },
   "outputs": [
    {
     "name": "stdout",
     "output_type": "stream",
     "text": [
      "CPU times: user 7 µs, sys: 0 ns, total: 7 µs\n",
      "Wall time: 11.7 µs\n"
     ]
    }
   ],
   "source": [
    "%%time\n",
    "import json\n",
    "import numpy as np\n",
    "\n",
    "\n",
    "FILE_TEST = '../data/test_point.csv'\n",
    "\n",
    "def predict_batch(test_file):\n",
    "    with open(test_file, \"r\") as f:\n",
    "        payload = f.read().strip()\n",
    "\n",
    "    labels = [line.split(\",\")[0] for line in payload.split(\"\\n\")]\n",
    "    test_data = [line for line in payload.split(\"\\n\")]\n",
    "    preds = batch_predict(test_data, 5, 'DEMO-XGBoostEndpoint-2022-12-13-21-48-06', \"csv\")\n",
    "    \n",
    "    return preds\n",
    "\n",
    "    # print(\n",
    "    #     \"\\n Median Absolute Percent Error (MdAPE) = \",\n",
    "    #     np.median(np.abs(np.array(labels) - np.array(preds)) / np.array(labels)),\n",
    "    # )"
   ]
  },
  {
   "cell_type": "code",
   "execution_count": 33,
   "id": "5a23690a-d01a-4b23-b769-c3adadba13d4",
   "metadata": {},
   "outputs": [
    {
     "data": {
      "text/plain": [
       "[0, 0, 0]"
      ]
     },
     "execution_count": 33,
     "metadata": {},
     "output_type": "execute_result"
    }
   ],
   "source": [
    "preds\n"
   ]
  },
  {
   "cell_type": "code",
   "execution_count": 13,
   "id": "20b92a2e-fc8c-4da6-85ae-2073aab0c593",
   "metadata": {},
   "outputs": [],
   "source": [
    "#sm_client.delete_endpoint(EndpointName=endpoint_name)\n"
   ]
  },
  {
   "cell_type": "code",
   "execution_count": null,
   "id": "678058b2-399c-49de-bc4d-67d3934569e2",
   "metadata": {},
   "outputs": [],
   "source": [
    "### Testing"
   ]
  },
  {
   "cell_type": "code",
   "execution_count": 4,
   "id": "898aa60e-7a60-4661-ab9e-79728e2c245c",
   "metadata": {},
   "outputs": [],
   "source": [
    "test_features_file = '../data/features_iris.csv'\n",
    "test_targt_file = '../data/target_iris.csv'\n",
    "\n",
    "test_iris_features = pd.read_csv(test_features_file,header = None)\n",
    "test_iris_target = pd.read_csv(test_targt_file)"
   ]
  },
  {
   "cell_type": "code",
   "execution_count": 58,
   "id": "4f94fa10-0297-4979-a430-96aec8b4dc26",
   "metadata": {
    "tags": []
   },
   "outputs": [],
   "source": [
    "pkl_model_predict = list(model_pkl.predict(test_iris_features))\n"
   ]
  },
  {
   "cell_type": "code",
   "execution_count": 62,
   "id": "b16a560e-9d09-4ac5-b0dd-9e744c3fbde7",
   "metadata": {
    "tags": []
   },
   "outputs": [
    {
     "name": "stdout",
     "output_type": "stream",
     "text": [
      "......"
     ]
    }
   ],
   "source": [
    "predict_proba_list = predict_batch(test_features_file)\n"
   ]
  },
  {
   "cell_type": "code",
   "execution_count": 59,
   "id": "1b2ddb28-60ac-4e5f-be93-46a624d2adc7",
   "metadata": {
    "tags": []
   },
   "outputs": [],
   "source": [
    "end_point_predict = list(map(int,map(lambda x:x>0.5,predict_proba_list)))"
   ]
  },
  {
   "cell_type": "code",
   "execution_count": 65,
   "id": "6a08f5e2-f196-4c53-a3ee-30ee2ac809b8",
   "metadata": {
    "tags": []
   },
   "outputs": [],
   "source": [
    "assert pkl_model_predict ==end_point_predict , 'end point do not result the same outputs as the pickle model' "
   ]
  },
  {
   "cell_type": "code",
   "execution_count": null,
   "id": "a5587fd5-2c48-4c31-b335-69c20f033024",
   "metadata": {},
   "outputs": [],
   "source": []
  }
 ],
 "metadata": {
  "instance_type": "ml.t3.medium",
  "kernelspec": {
   "display_name": "Python 3 (Data Science)",
   "language": "python",
   "name": "python3__SAGEMAKER_INTERNAL__arn:aws:sagemaker:ca-central-1:310906938811:image/datascience-1.0"
  },
  "language_info": {
   "codemirror_mode": {
    "name": "ipython",
    "version": 3
   },
   "file_extension": ".py",
   "mimetype": "text/x-python",
   "name": "python",
   "nbconvert_exporter": "python",
   "pygments_lexer": "ipython3",
   "version": "3.7.10"
  }
 },
 "nbformat": 4,
 "nbformat_minor": 5
}
